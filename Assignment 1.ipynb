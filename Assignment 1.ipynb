{
 "cells": [
  {
   "cell_type": "code",
   "execution_count": 1,
   "metadata": {},
   "outputs": [
    {
     "name": "stdout",
     "output_type": "stream",
     "text": [
      "Simple Massage\n"
     ]
    }
   ],
   "source": [
    "# 1.Store a simple massage and print that massage.\n",
    "a=\"Simple Massage\"\n",
    "print(a)"
   ]
  },
  {
   "cell_type": "code",
   "execution_count": 3,
   "metadata": {},
   "outputs": [
    {
     "name": "stdout",
     "output_type": "stream",
     "text": [
      "10\n",
      "20\n"
     ]
    }
   ],
   "source": [
    "#2. Change the value of veriable \n",
    "\n",
    "# this is old value\n",
    "\n",
    "a= 10\n",
    "print(a)\n",
    "\n",
    "# this is new value of variable\n",
    "\n",
    "a=20\n",
    "print(20)"
   ]
  },
  {
   "cell_type": "code",
   "execution_count": 4,
   "metadata": {},
   "outputs": [
    {
     "name": "stdout",
     "output_type": "stream",
     "text": [
      "Hello Satish, would you like to learn some Python today\n"
     ]
    }
   ],
   "source": [
    "#3. Store a person's name in variable\n",
    "\n",
    "name=\"Satish\"\n",
    "print(\"Hello \" + name + \", would you like to learn some Python today\" )\n"
   ]
  },
  {
   "cell_type": "code",
   "execution_count": 21,
   "metadata": {},
   "outputs": [
    {
     "name": "stdout",
     "output_type": "stream",
     "text": [
      "Albert Einstein once said,  \" A person who never made a mistake never tried anything new. \"\n"
     ]
    }
   ],
   "source": [
    "#4. quote and author name\n",
    "\n",
    "quote=\" \\\" A person who never made a mistake never tried anything new. \\\"\"\n",
    "author=\"Albert Einstein \"\n",
    "print(author  + \"once said, \" + quote)\n"
   ]
  },
  {
   "cell_type": "code",
   "execution_count": null,
   "metadata": {},
   "outputs": [],
   "source": [
    "#5. \n"
   ]
  },
  {
   "cell_type": "code",
   "execution_count": 22,
   "metadata": {},
   "outputs": [
    {
     "name": "stdout",
     "output_type": "stream",
     "text": [
      "8\n",
      "8\n",
      "8\n",
      "8.0\n"
     ]
    }
   ],
   "source": [
    "#6. \n",
    "print(5+3)\n",
    "print(10-2)\n",
    "print(4*2)\n",
    "print(16/2)"
   ]
  },
  {
   "cell_type": "code",
   "execution_count": 25,
   "metadata": {},
   "outputs": [
    {
     "name": "stdout",
     "output_type": "stream",
     "text": [
      "My favourite number is 7.\n"
     ]
    }
   ],
   "source": [
    "#7.\n",
    "fav_number= 7\n",
    "print(\"My favourite number is \" + str(fav_number) +\".\")"
   ]
  },
  {
   "cell_type": "code",
   "execution_count": 31,
   "metadata": {},
   "outputs": [
    {
     "data": {
      "text/plain": [
       "['Ashish',\n",
       " 'Dilip',\n",
       " 'Gaurav',\n",
       " 'Krishna',\n",
       " 'Nandu',\n",
       " 'Prashant',\n",
       " 'Satish',\n",
       " 'Shubham',\n",
       " 'Vikas',\n",
       " 'Vitthal']"
      ]
     },
     "execution_count": 31,
     "metadata": {},
     "output_type": "execute_result"
    }
   ],
   "source": [
    "#9.\n",
    "\n",
    "name=[\"Satish\",\"Gaurav\",\"Dilip\",\"Krishna\",\"Ashish\",\"Vitthal\",\"Nandu\",\"Vikas\",\"Shubham\",\"Prashant\"]\n",
    "name.sort()\n",
    "name\n"
   ]
  },
  {
   "cell_type": "code",
   "execution_count": 37,
   "metadata": {},
   "outputs": [
    {
     "name": "stdout",
     "output_type": "stream",
     "text": [
      "Hey there, I am Krishna\n"
     ]
    }
   ],
   "source": [
    "# 10.\n",
    "Message=\"Hey there, I am \"\n",
    "print(Message + name[3])"
   ]
  },
  {
   "cell_type": "code",
   "execution_count": null,
   "metadata": {},
   "outputs": [],
   "source": []
  },
  {
   "cell_type": "code",
   "execution_count": null,
   "metadata": {},
   "outputs": [],
   "source": []
  }
 ],
 "metadata": {
  "kernelspec": {
   "display_name": "Python 3",
   "language": "python",
   "name": "python3"
  },
  "language_info": {
   "codemirror_mode": {
    "name": "ipython",
    "version": 3
   },
   "file_extension": ".py",
   "mimetype": "text/x-python",
   "name": "python",
   "nbconvert_exporter": "python",
   "pygments_lexer": "ipython3",
   "version": "3.8.5"
  }
 },
 "nbformat": 4,
 "nbformat_minor": 4
}
