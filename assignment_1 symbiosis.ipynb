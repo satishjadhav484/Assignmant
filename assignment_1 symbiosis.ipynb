{
 "cells": [
  {
   "cell_type": "code",
   "execution_count": 1,
   "metadata": {},
   "outputs": [
    {
     "name": "stdout",
     "output_type": "stream",
     "text": [
      "Enter the integer n here:\n",
      "2\n",
      "14\n"
     ]
    }
   ],
   "source": [
    "#1. Write a Python program that accepts an integer (n) and computes the value of n+nn+nnn\n",
    "\n",
    "n=int(input(\"Enter the integer n here:\\n\"))\n",
    "print(n+n**2+n**3)"
   ]
  },
  {
   "cell_type": "code",
   "execution_count": 3,
   "metadata": {},
   "outputs": [
    {
     "name": "stdout",
     "output_type": "stream",
     "text": [
      "a string that you \"don't\" have to escape \n",
      "This \n",
      "is a ...... multi-line \n",
      "heredoc string \n"
     ]
    }
   ],
   "source": [
    "#2. Write a Python program to print the following here document.\n",
    "#Sample string :\n",
    "#a string that you don't; have to escape\n",
    "#This\n",
    "#is a ....... multi-line\n",
    "#heredoc string\n",
    "\n",
    "print('''a string that you \"don't\" have to escape \\nThis \\nis a ...... multi-line \\nheredoc string ''')\n"
   ]
  },
  {
   "cell_type": "code",
   "execution_count": 14,
   "metadata": {},
   "outputs": [
    {
     "name": "stdout",
     "output_type": "stream",
     "text": [
      "Enter a number here:19\n",
      "4\n"
     ]
    }
   ],
   "source": [
    "#3. Write a Python program to get the difference between a given number and 17, \n",
    "#if the number is greater than 17 return double the absolute difference.\n",
    "\n",
    "x=int(input(\"Enter a number here:\"))\n",
    "if x<17:\n",
    "    print(x-17)\n",
    "else:\n",
    "    print(2*(x-17))\n",
    "\n",
    "\n"
   ]
  },
  {
   "cell_type": "code",
   "execution_count": 15,
   "metadata": {},
   "outputs": [
    {
     "name": "stdout",
     "output_type": "stream",
     "text": [
      "Enter 1st number:1\n",
      "Enter 2nd number:2\n",
      "Enter 3rd number:3\n",
      "6\n"
     ]
    }
   ],
   "source": [
    "#4. Write a Python program to calculate the sum of three given numbers, if the values are\n",
    "#equal then return thrice of their sum.\n",
    "\n",
    "x=int(input(\"Enter 1st number:\"))\n",
    "y=int(input(\"Enter 2nd number:\"))\n",
    "z=int(input(\"Enter 3rd number:\"))\n",
    "\n",
    "print(x+y+z)\n"
   ]
  },
  {
   "cell_type": "code",
   "execution_count": 59,
   "metadata": {},
   "outputs": [
    {
     "name": "stdout",
     "output_type": "stream",
     "text": [
      "1  2  3  Satish  love  Mango\n"
     ]
    }
   ],
   "source": [
    "#5. Write a Python program to concatenate all elements in a list into a string and return it.\n",
    "\n",
    "list1=[1,2,3,\"Satish\",\"love\",\"Mango\"]\n",
    "list2string=\"  \".join([str(ele) for ele in list1])  # basically joining with space \" \"\n",
    "print(list2string)\n"
   ]
  },
  {
   "cell_type": "code",
   "execution_count": 22,
   "metadata": {},
   "outputs": [
    {
     "data": {
      "text/plain": [
       "{'Black', 'White'}"
      ]
     },
     "execution_count": 22,
     "metadata": {},
     "output_type": "execute_result"
    }
   ],
   "source": [
    "#6. Write a Python program to print out a set containing all the colors from color_list_1\n",
    "#which are not present in color_list_2\n",
    "\n",
    "color_list_1=set([\"White\",\"Black\",\"Red\"])\n",
    "color_list_2=set([\"Red\",\"Green\"])\n",
    "color_list_1-color_list_2"
   ]
  },
  {
   "cell_type": "code",
   "execution_count": 4,
   "metadata": {},
   "outputs": [
    {
     "name": "stdout",
     "output_type": "stream",
     "text": [
      "Enter 1st number here:3\n",
      "Enter 2nd number here:9\n",
      "3\n"
     ]
    }
   ],
   "source": [
    "#7. program for GCD\n",
    "\n",
    "n = int(input(\"Enter 1st number here:\"))\n",
    "m = int(input(\"Enter 2nd number here:\"))\n",
    "i = 1\n",
    "while(i <= n and i <= m):\n",
    "    if(n % i == 0 and m % i == 0):\n",
    "        gcd = i\n",
    "    i = i + 1\n",
    "print(gcd)\n",
    "    \n"
   ]
  },
  {
   "cell_type": "code",
   "execution_count": 12,
   "metadata": {},
   "outputs": [
    {
     "data": {
      "text/plain": [
       "10"
      ]
     },
     "execution_count": 12,
     "metadata": {},
     "output_type": "execute_result"
    }
   ],
   "source": [
    "#7. Another way for GCD\n",
    "\n",
    "from math import gcd\n",
    "gcd(10,20)"
   ]
  },
  {
   "cell_type": "code",
   "execution_count": 54,
   "metadata": {},
   "outputs": [
    {
     "name": "stdout",
     "output_type": "stream",
     "text": [
      "Enter 1st number here:2\n",
      "Enter 2nd number here:3\n",
      "158896326\n"
     ]
    }
   ],
   "source": [
    "#8. To find LCM\n",
    "# There is something wrong in this perticular program\n",
    "n = int(input(\"Enter 1st number here:\"))\n",
    "m = int(input(\"Enter 2nd number here:\"))\n",
    "i=1\n",
    "while(n <= i and m <= i):\n",
    "    if(i % n==0 and i % m==0):\n",
    "     lcm = i\n",
    "    break\n",
    "   \n",
    "print(lcm)"
   ]
  },
  {
   "cell_type": "code",
   "execution_count": 53,
   "metadata": {},
   "outputs": [
    {
     "name": "stdout",
     "output_type": "stream",
     "text": [
      "Enter the first number:2\n",
      "Enter the second number:3\n",
      "6\n"
     ]
    }
   ],
   "source": [
    "#8 To find LCM\n",
    "\n",
    "n=int(input(\"Enter the first number:\"))\n",
    "m=int(input(\"Enter the second number:\"))\n",
    "if (n>m):\n",
    "    min1=m\n",
    "else:\n",
    "    min1=n\n",
    "while(1):\n",
    "    if (min1 % n == 0 and min1 % m == 0):\n",
    "        print(min1)\n",
    "        break\n",
    "    min1 = min1 + 1\n",
    "         "
   ]
  },
  {
   "cell_type": "code",
   "execution_count": 4,
   "metadata": {},
   "outputs": [
    {
     "data": {
      "text/plain": [
       "'Satish Jadhav like  Math'"
      ]
     },
     "execution_count": 4,
     "metadata": {},
     "output_type": "execute_result"
    }
   ],
   "source": [
    "#9. Write a Python program to concatenate N strings.\n",
    "\n",
    "str1=\"Satish \"\n",
    "str2=\"Jadhav \"\n",
    "str3=\"like  \"\n",
    "str4=\"Math\"\n",
    "\n",
    "\n",
    "str1+str2+str3+str4\n",
    " "
   ]
  },
  {
   "cell_type": "code",
   "execution_count": 8,
   "metadata": {},
   "outputs": [
    {
     "name": "stdout",
     "output_type": "stream",
     "text": [
      "5\n",
      "1\n",
      "2\n",
      "3\n",
      "4\n",
      "5\n",
      "\n",
      "\n",
      "\n",
      "\n",
      "\n",
      "\n"
     ]
    }
   ],
   "source": [
    "#10. Write a Python program to test whether all numbers of a list is greater than a certain\n",
    "#number.\n",
    "x=int(input())\n",
    "list1=[1,2,3,4,5,6,7,8,9,10,11]\n",
    "for ele in list1:\n",
    "    if x< ele:\n",
    "        print(\"\")\n",
    "    else:\n",
    "        print(ele)"
   ]
  },
  {
   "cell_type": "code",
   "execution_count": 92,
   "metadata": {},
   "outputs": [
    {
     "name": "stdout",
     "output_type": "stream",
     "text": [
      "3\n"
     ]
    }
   ],
   "source": [
    "# 11. Write a Python program to count the number occurrence of a specific character in a\n",
    "#string.\n",
    "\n",
    "S=\"Satish Jadhav\"\n",
    "print(S.count(\"a\"))"
   ]
  },
  {
   "cell_type": "code",
   "execution_count": null,
   "metadata": {},
   "outputs": [],
   "source": [
    "#12."
   ]
  },
  {
   "cell_type": "code",
   "execution_count": null,
   "metadata": {},
   "outputs": [],
   "source": []
  }
 ],
 "metadata": {
  "kernelspec": {
   "display_name": "Python 3",
   "language": "python",
   "name": "python3"
  },
  "language_info": {
   "codemirror_mode": {
    "name": "ipython",
    "version": 3
   },
   "file_extension": ".py",
   "mimetype": "text/x-python",
   "name": "python",
   "nbconvert_exporter": "python",
   "pygments_lexer": "ipython3",
   "version": "3.8.5"
  }
 },
 "nbformat": 4,
 "nbformat_minor": 4
}
