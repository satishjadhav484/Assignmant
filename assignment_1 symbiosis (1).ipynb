{
 "cells": [
  {
   "cell_type": "code",
   "execution_count": 1,
   "metadata": {},
   "outputs": [
    {
     "name": "stdout",
     "output_type": "stream",
     "text": [
      "Enter the integer n here:\n",
      "2\n",
      "14\n"
     ]
    }
   ],
   "source": [
    "#1. Write a Python program that accepts an integer (n) and computes the value of n+nn+nnn\n",
    "\n",
    "n=int(input(\"Enter the integer n here:\\n\"))\n",
    "print(n+n**2+n**3)"
   ]
  },
  {
   "cell_type": "code",
   "execution_count": 3,
   "metadata": {},
   "outputs": [
    {
     "name": "stdout",
     "output_type": "stream",
     "text": [
      "a string that you \"don't\" have to escape \n",
      "This \n",
      "is a ...... multi-line \n",
      "heredoc string \n"
     ]
    }
   ],
   "source": [
    "#2. Write a Python program to print the following here document.\n",
    "#Sample string :\n",
    "#a string that you don't; have to escape\n",
    "#This\n",
    "#is a ....... multi-line\n",
    "#heredoc string\n",
    "\n",
    "print('''a string that you \"don't\" have to escape \\nThis \\nis a ...... multi-line \\nheredoc string ''')\n"
   ]
  },
  {
   "cell_type": "code",
   "execution_count": 14,
   "metadata": {},
   "outputs": [
    {
     "name": "stdout",
     "output_type": "stream",
     "text": [
      "Enter a number here:19\n",
      "4\n"
     ]
    }
   ],
   "source": [
    "#3. Write a Python program to get the difference between a given number and 17, \n",
    "#if the number is greater than 17 return double the absolute difference.\n",
    "\n",
    "x=int(input(\"Enter a number here:\"))\n",
    "if x<17:\n",
    "    print(x-17)\n",
    "else:\n",
    "    print(2*(x-17))\n",
    "\n",
    "\n"
   ]
  },
  {
   "cell_type": "code",
   "execution_count": 15,
   "metadata": {},
   "outputs": [
    {
     "name": "stdout",
     "output_type": "stream",
     "text": [
      "Enter 1st number:1\n",
      "Enter 2nd number:2\n",
      "Enter 3rd number:3\n",
      "6\n"
     ]
    }
   ],
   "source": [
    "#4. Write a Python program to calculate the sum of three given numbers, if the values are\n",
    "#equal then return thrice of their sum.\n",
    "\n",
    "x=int(input(\"Enter 1st number:\"))\n",
    "y=int(input(\"Enter 2nd number:\"))\n",
    "z=int(input(\"Enter 3rd number:\"))\n",
    "\n",
    "print(x+y+z)\n"
   ]
  },
  {
   "cell_type": "code",
   "execution_count": 59,
   "metadata": {},
   "outputs": [
    {
     "name": "stdout",
     "output_type": "stream",
     "text": [
      "1  2  3  Satish  love  Mango\n"
     ]
    }
   ],
   "source": [
    "#5. Write a Python program to concatenate all elements in a list into a string and return it.\n",
    "\n",
    "list1=[1,2,3,\"Satish\",\"love\",\"Mango\"]\n",
    "list2string=\"  \".join([str(ele) for ele in list1])  # basically joining with space \" \"\n",
    "print(list2string)\n"
   ]
  },
  {
   "cell_type": "code",
   "execution_count": 22,
   "metadata": {},
   "outputs": [
    {
     "data": {
      "text/plain": [
       "{'Black', 'White'}"
      ]
     },
     "execution_count": 22,
     "metadata": {},
     "output_type": "execute_result"
    }
   ],
   "source": [
    "#6. Write a Python program to print out a set containing all the colors from color_list_1\n",
    "#which are not present in color_list_2\n",
    "\n",
    "color_list_1=set([\"White\",\"Black\",\"Red\"])\n",
    "color_list_2=set([\"Red\",\"Green\"])\n",
    "color_list_1-color_list_2"
   ]
  },
  {
   "cell_type": "code",
   "execution_count": 4,
   "metadata": {},
   "outputs": [
    {
     "name": "stdout",
     "output_type": "stream",
     "text": [
      "Enter 1st number here:3\n",
      "Enter 2nd number here:9\n",
      "3\n"
     ]
    }
   ],
   "source": [
    "#7. program for GCD\n",
    "\n",
    "n = int(input(\"Enter 1st number here:\"))\n",
    "m = int(input(\"Enter 2nd number here:\"))\n",
    "i = 1\n",
    "while(i <= n and i <= m):\n",
    "    if(n % i == 0 and m % i == 0):\n",
    "        gcd = i\n",
    "    i = i + 1\n",
    "print(gcd)\n",
    "    \n"
   ]
  },
  {
   "cell_type": "code",
   "execution_count": 12,
   "metadata": {},
   "outputs": [
    {
     "data": {
      "text/plain": [
       "10"
      ]
     },
     "execution_count": 12,
     "metadata": {},
     "output_type": "execute_result"
    }
   ],
   "source": [
    "#7. Another way for GCD\n",
    "\n",
    "from math import gcd\n",
    "gcd(10,20)"
   ]
  },
  {
   "cell_type": "code",
   "execution_count": 54,
   "metadata": {},
   "outputs": [
    {
     "name": "stdout",
     "output_type": "stream",
     "text": [
      "Enter 1st number here:2\n",
      "Enter 2nd number here:3\n",
      "158896326\n"
     ]
    }
   ],
   "source": [
    "#8. To find LCM\n",
    "# There is something wrong in this perticular program\n",
    "n = int(input(\"Enter 1st number here:\"))\n",
    "m = int(input(\"Enter 2nd number here:\"))\n",
    "i=1\n",
    "while(n <= i and m <= i):\n",
    "    if(i % n==0 and i % m==0):\n",
    "     lcm = i\n",
    "    break\n",
    "   \n",
    "print(lcm)"
   ]
  },
  {
   "cell_type": "code",
   "execution_count": 53,
   "metadata": {},
   "outputs": [
    {
     "name": "stdout",
     "output_type": "stream",
     "text": [
      "Enter the first number:2\n",
      "Enter the second number:3\n",
      "6\n"
     ]
    }
   ],
   "source": [
    "#8 To find LCM\n",
    "\n",
    "n=int(input(\"Enter the first number:\"))\n",
    "m=int(input(\"Enter the second number:\"))\n",
    "if (n>m):\n",
    "    min1=m\n",
    "else:\n",
    "    min1=n\n",
    "while(1):\n",
    "    if (min1 % n == 0 and min1 % m == 0):\n",
    "        print(min1)\n",
    "        break\n",
    "    min1 = min1 + 1\n",
    "         "
   ]
  },
  {
   "cell_type": "code",
   "execution_count": 4,
   "metadata": {},
   "outputs": [
    {
     "data": {
      "text/plain": [
       "'Satish Jadhav like  Math'"
      ]
     },
     "execution_count": 4,
     "metadata": {},
     "output_type": "execute_result"
    }
   ],
   "source": [
    "#9. Write a Python program to concatenate N strings.\n",
    "\n",
    "str1=\"Satish \"\n",
    "str2=\"Jadhav \"\n",
    "str3=\"like  \"\n",
    "str4=\"Math\"\n",
    "\n",
    "\n",
    "str1+str2+str3+str4\n",
    " "
   ]
  },
  {
   "cell_type": "code",
   "execution_count": 8,
   "metadata": {},
   "outputs": [
    {
     "name": "stdout",
     "output_type": "stream",
     "text": [
      "5\n",
      "1\n",
      "2\n",
      "3\n",
      "4\n",
      "5\n",
      "\n",
      "\n",
      "\n",
      "\n",
      "\n",
      "\n"
     ]
    }
   ],
   "source": [
    "#10. Write a Python program to test whether all numbers of a list is greater than a certain\n",
    "#number.\n",
    "x=int(input())\n",
    "list1=[1,2,3,4,5,6,7,8,9,10,11]\n",
    "for ele in list1:\n",
    "    if x< ele:\n",
    "        print(\"\")\n",
    "    else:\n",
    "        print(ele)"
   ]
  },
  {
   "cell_type": "code",
   "execution_count": 92,
   "metadata": {},
   "outputs": [
    {
     "name": "stdout",
     "output_type": "stream",
     "text": [
      "3\n"
     ]
    }
   ],
   "source": [
    "# 11. Write a Python program to count the number occurrence of a specific character in a\n",
    "#string.\n",
    "\n",
    "S=\"Satish Jadhav\"\n",
    "print(S.count(\"a\"))"
   ]
  },
  {
   "cell_type": "code",
   "execution_count": 8,
   "metadata": {},
   "outputs": [
    {
     "name": "stdout",
     "output_type": "stream",
     "text": [
      "Put charecter here :a\n",
      "97\n"
     ]
    }
   ],
   "source": [
    "#12.Write a Python program to get the ASCII value of a character.\n",
    "x= input(\"Put charecter here :\")\n",
    "print(ord(x))"
   ]
  },
  {
   "cell_type": "code",
   "execution_count": 10,
   "metadata": {},
   "outputs": [
    {
     "name": "stdout",
     "output_type": "stream",
     "text": [
      "Enter integer here :-3\n",
      "Negative\n"
     ]
    }
   ],
   "source": [
    "#13. Write a Python program to check if a number is positive, negative or zero.\n",
    "x=int(input(\"Enter integer here :\"))\n",
    "if x >0 :\n",
    "    print(\"positive\")\n",
    "elif x<0:\n",
    "    print(\"Negative\")\n",
    "else:\n",
    "    print(\"Zero\")"
   ]
  },
  {
   "cell_type": "code",
   "execution_count": 18,
   "metadata": {},
   "outputs": [
    {
     "name": "stdout",
     "output_type": "stream",
     "text": [
      "Enter integer here:sat\n",
      "\n",
      " this is not number try again\n",
      "Enter integer here:1\n"
     ]
    }
   ],
   "source": [
    "#14. Write a Python program to input a number, if it is not a number generate an error\n",
    "#message.\n",
    "\n",
    "while True:\n",
    "    try:\n",
    "        x=int(input(\"Enter integer here:\"))\n",
    "        break\n",
    "    except ValueError:\n",
    "        print(\"\\n this is not number try again\")"
   ]
  },
  {
   "cell_type": "code",
   "execution_count": 26,
   "metadata": {},
   "outputs": [
    {
     "name": "stdout",
     "output_type": "stream",
     "text": [
      "it is tuple\n"
     ]
    }
   ],
   "source": [
    "#15. Write a Python program to test if a variable is a list or tuple or a dictionary.\n",
    "\n",
    "var=(1,2,3)\n",
    "if type(var) is list:\n",
    "    print(\"It is list\")\n",
    "elif type(var) is str:\n",
    "    print(\"it is string\")\n",
    "elif type(var) is tuple:\n",
    "    print(\"it is tuple\")\n",
    "elif type(var) is dict:\n",
    "    print(\"it is dict\")\n",
    "else:\n",
    "    print(\"none of these\")"
   ]
  },
  {
   "cell_type": "code",
   "execution_count": 28,
   "metadata": {},
   "outputs": [
    {
     "name": "stdout",
     "output_type": "stream",
     "text": [
      "Sum of cubes smaller than the specified number:  36\n"
     ]
    }
   ],
   "source": [
    "#16. Write a Python function that takes a positive integer and returns the sum of the cube of all\n",
    "#the positive integers smaller than the specified number.\n",
    "\n",
    "def sum_of_cubes(n):\n",
    " n -= 1\n",
    " total = 0\n",
    " while n > 0:\n",
    "   total += n * n * n\n",
    "   n -= 1\n",
    " return total\n",
    "print(\"Sum of cubes smaller than the specified number: \",sum_of_cubes(4))"
   ]
  },
  {
   "cell_type": "code",
   "execution_count": 1,
   "metadata": {},
   "outputs": [
    {
     "name": "stdout",
     "output_type": "stream",
     "text": [
      "2030\n",
      "2065\n",
      "2100\n",
      "2135\n",
      "2170\n",
      "2205\n",
      "2240\n",
      "2275\n",
      "2310\n",
      "2345\n",
      "2380\n",
      "2415\n",
      "2450\n",
      "2485\n",
      "2520\n",
      "2555\n",
      "2590\n",
      "2625\n",
      "2660\n",
      "2695\n",
      "2730\n",
      "2765\n",
      "2800\n",
      "2835\n",
      "2870\n",
      "2905\n",
      "2940\n",
      "2975\n",
      "3010\n",
      "3045\n",
      "3080\n",
      "3115\n",
      "3150\n",
      "3185\n",
      "3220\n",
      "3255\n",
      "3290\n",
      "3325\n",
      "3360\n",
      "3395\n",
      "3430\n",
      "3465\n",
      "3500\n"
     ]
    }
   ],
   "source": [
    "#17. Write a program to find those numbers which are divisible by 7 and multiple of 5, between\n",
    "#2000 to 3500\n",
    "\n",
    "i=1\n",
    "for i in range(2000,3501):\n",
    "    if (i%5==0 and i %7==0):\n",
    "        print(i)"
   ]
  },
  {
   "cell_type": "code",
   "execution_count": 8,
   "metadata": {},
   "outputs": [
    {
     "name": "stdout",
     "output_type": "stream",
     "text": [
      "Number of even numbers: 4\n",
      "Number of odd numbes : 3\n"
     ]
    }
   ],
   "source": [
    "#18. Write a program to count the numbers even and odd in given series of numbers.\n",
    "#(1,3,4,5,6,7,8)\n",
    "\n",
    "tuple1=(1,2,4,5,6,7,8)\n",
    "count_even=0\n",
    "count_odd=0\n",
    "for i in tuple1:\n",
    "    if i%2==0:\n",
    "        count_even+=1\n",
    "    else:\n",
    "        count_odd+=1\n",
    "        \n",
    "print(\"Number of even numbers:\",count_even)\n",
    "print(\"Number of odd numbes :\",count_odd)\n",
    "    "
   ]
  },
  {
   "cell_type": "code",
   "execution_count": 19,
   "metadata": {},
   "outputs": [
    {
     "name": "stdout",
     "output_type": "stream",
     "text": [
      "6\n",
      "h\n",
      "s\n",
      "i\n",
      "t\n",
      "a\n",
      "S\n"
     ]
    }
   ],
   "source": [
    " #19. Program to accept word and reverse it\n",
    "    \n",
    "word=\"Satish\"\n",
    "n=len(word)\n",
    "print(n)\n",
    "for i in range(len(word)-1,-1,-1):\n",
    "    print(word[i])\n",
    "   "
   ]
  },
  {
   "cell_type": "code",
   "execution_count": 25,
   "metadata": {},
   "outputs": [
    {
     "name": "stdout",
     "output_type": "stream",
     "text": [
      "R\n",
      "R\n",
      "R\n",
      "R\n"
     ]
    }
   ],
   "source": [
    "#20. Write a Python program to abbreviate &#39;Road&#39; as &#39;Rd.&#39; in a given string.\n",
    "var=\"Road\"\n",
    "for i in range(len(var)):\n",
    "    print(var[0])"
   ]
  },
  {
   "cell_type": "code",
   "execution_count": 26,
   "metadata": {},
   "outputs": [],
   "source": [
    "#21"
   ]
  },
  {
   "cell_type": "code",
   "execution_count": 33,
   "metadata": {},
   "outputs": [
    {
     "name": "stdout",
     "output_type": "stream",
     "text": [
      "Enter string:satish123\n",
      "6\n",
      "3\n"
     ]
    }
   ],
   "source": [
    "#22. Program to accept string and calculate the number of digits and letters\n",
    "string=input(\"Enter string:\")\n",
    "d=l=0\n",
    "for c in string:\n",
    "    if c.isdigit():\n",
    "        d=d+1\n",
    "    elif c.isalpha():\n",
    "        l=l+1\n",
    "    else:\n",
    "            pass\n",
    "print(l)\n",
    "print(d)\n",
    "\n"
   ]
  },
  {
   "cell_type": "code",
   "execution_count": 35,
   "metadata": {},
   "outputs": [
    {
     "name": "stdout",
     "output_type": "stream",
     "text": [
      "Enter string:satiSh\n",
      "5\n",
      "1\n"
     ]
    }
   ],
   "source": [
    "#24. Write a Python function that accepts a string and calculate the number of upper case\n",
    "#letters and lower case letters\n",
    "\n",
    "string=input(\"Enter string:\")\n",
    "u=l=0\n",
    "for c in string:\n",
    "    if c.isupper():\n",
    "        u=u+1\n",
    "    elif c.islower():\n",
    "        l=l+1\n",
    "    else:\n",
    "            pass\n",
    "print(l)\n",
    "print(u)\n",
    "\n",
    "\n"
   ]
  },
  {
   "cell_type": "code",
   "execution_count": null,
   "metadata": {},
   "outputs": [],
   "source": []
  }
 ],
 "metadata": {
  "kernelspec": {
   "display_name": "Python 3",
   "language": "python",
   "name": "python3"
  },
  "language_info": {
   "codemirror_mode": {
    "name": "ipython",
    "version": 3
   },
   "file_extension": ".py",
   "mimetype": "text/x-python",
   "name": "python",
   "nbconvert_exporter": "python",
   "pygments_lexer": "ipython3",
   "version": "3.8.5"
  }
 },
 "nbformat": 4,
 "nbformat_minor": 4
}
